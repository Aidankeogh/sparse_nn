{
 "cells": [
  {
   "cell_type": "code",
   "execution_count": 21,
   "metadata": {},
   "outputs": [],
   "source": [
    "import torch\n",
    "import torchvision\n",
    "import random\n",
    "import torch.nn as nn\n",
    "import torch.nn.functional as F\n",
    "from torch.nn.init import normal_ as init"
   ]
  },
  {
   "cell_type": "code",
   "execution_count": 22,
   "metadata": {
    "collapsed": true
   },
   "outputs": [],
   "source": [
    "class InputNeuron():\n",
    "    def __init__(self):\n",
    "        self.a = torch.tensor([0])"
   ]
  },
  {
   "cell_type": "code",
   "execution_count": 23,
   "metadata": {},
   "outputs": [],
   "source": [
    "class Neuron():\n",
    "    def __init__(self,network):\n",
    "        self.net = network # the network this belongs to\n",
    "        \n",
    "        self.a = torch.tensor([0.], requires_grad = True) # The activation value of the neuron\n",
    "        self.w = init(torch.tensor([0.],requires_grad = True )) # The weights\n",
    "        \n",
    "        self.in_values = torch.tensor([0.], requires_grad = False) # The input values\n",
    "        \n",
    "        self.in_indices = [] # Indices to grab inputs from\n",
    "        self.num_connections = 0\n",
    "    \n",
    "    def forward(self):\n",
    "        self.in_values[0] = 1 # bias\n",
    "        for i in range(0,self.num_connections):\n",
    "            self.in_values[i+1] = self.net[self.in_indices[i]].a\n",
    "        self.a = torch.dot(self.in_values,self.w)\n",
    "        self.a = F.relu(self.a)"
   ]
  },
  {
   "cell_type": "code",
   "execution_count": 24,
   "metadata": {},
   "outputs": [],
   "source": [
    "net = []\n",
    "net.append(Neuron(net))\n",
    "net.append(Neuron(net))"
   ]
  },
  {
   "cell_type": "code",
   "execution_count": 25,
   "metadata": {},
   "outputs": [
    {
     "name": "stdout",
     "output_type": "stream",
     "text": [
      "tensor(0.9733)\n"
     ]
    }
   ],
   "source": [
    "net[1].forward()\n",
    "print net[1].a"
   ]
  },
  {
   "cell_type": "code",
   "execution_count": null,
   "metadata": {},
   "outputs": [],
   "source": []
  },
  {
   "cell_type": "code",
   "execution_count": null,
   "metadata": {},
   "outputs": [],
   "source": []
  },
  {
   "cell_type": "code",
   "execution_count": 26,
   "metadata": {},
   "outputs": [],
   "source": [
    "optimizer = torch.optim.SGD([n.w for n in net], lr=.01)\n",
    "loss_fn = nn.MSELoss()\n",
    "target = torch.tensor([10.0])"
   ]
  },
  {
   "cell_type": "code",
   "execution_count": 27,
   "metadata": {},
   "outputs": [
    {
     "name": "stdout",
     "output_type": "stream",
     "text": [
      "tensor(1.7186) tensor(0.9733)\n",
      "tensor(-16.2100)\n",
      "tensor(1.8807) tensor(1.2595)\n",
      "tensor(-19.2235)\n",
      "tensor(2.0729) tensor(1.5466)\n",
      "tensor(-21.0150)\n",
      "tensor(2.2831) tensor(1.8282)\n",
      "tensor(-21.3026)\n",
      "tensor(2.4961) tensor(2.0943)\n",
      "tensor(-19.9897)\n",
      "tensor(2.6960) tensor(2.3325)\n",
      "tensor(-17.3143)\n",
      "tensor(2.8692) tensor(2.5326)\n",
      "tensor(-13.8458)\n",
      "tensor(3.0076) tensor(2.6895)\n",
      "tensor(-10.2795)\n",
      "tensor(3.1104) tensor(2.8045)\n",
      "tensor(-7.1627)\n",
      "tensor(3.1820) tensor(2.8839)\n",
      "tensor(-4.7490)\n",
      "tensor(3.2295) tensor(2.9363)\n",
      "tensor(-3.0372)\n",
      "tensor(3.2599) tensor(2.9697)\n",
      "tensor(-1.8953)\n",
      "tensor(3.2788) tensor(2.9905)\n",
      "tensor(-1.1639)\n",
      "tensor(3.2905) tensor(3.0033)\n",
      "tensor(-0.7076)\n",
      "tensor(3.2976) tensor(3.0110)\n",
      "tensor(-0.4275)\n",
      "tensor(3.3018) tensor(3.0157)\n",
      "tensor(-0.2573)\n",
      "tensor(3.3044) tensor(3.0185)\n",
      "tensor(-0.1545)\n",
      "tensor(3.3060) tensor(3.0202)\n",
      "tensor(1.00000e-02 *\n",
      "       -9.2630)\n",
      "tensor(3.3069) tensor(3.0212)\n",
      "tensor(1.00000e-02 *\n",
      "       -5.5499)\n",
      "tensor(3.3074) tensor(3.0218)\n",
      "tensor(1.00000e-02 *\n",
      "       -3.3233)\n",
      "tensor(3.3078) tensor(3.0222)\n",
      "tensor(1.00000e-02 *\n",
      "       -1.9893)\n",
      "tensor(3.3080) tensor(3.0224)\n",
      "tensor(1.00000e-02 *\n",
      "       -1.1910)\n",
      "tensor(3.3081) tensor(3.0225)\n",
      "tensor(1.00000e-03 *\n",
      "       -7.1198)\n",
      "tensor(3.3082) tensor(3.0226)\n",
      "tensor(1.00000e-03 *\n",
      "       -4.2605)\n",
      "tensor(3.3082) tensor(3.0227)\n",
      "tensor(1.00000e-03 *\n",
      "       -2.5483)\n",
      "tensor(3.3082) tensor(3.0227)\n",
      "tensor(1.00000e-03 *\n",
      "       -1.5220)\n",
      "tensor(3.3082) tensor(3.0227)\n",
      "tensor(1.00000e-04 *\n",
      "       -9.1093)\n",
      "tensor(3.3082) tensor(3.0227)\n",
      "tensor(1.00000e-04 *\n",
      "       -5.4195)\n",
      "tensor(3.3083) tensor(3.0227)\n",
      "tensor(1.00000e-04 *\n",
      "       -3.2286)\n",
      "tensor(3.3083) tensor(3.0227)\n",
      "tensor(1.00000e-04 *\n",
      "       -1.9026)\n",
      "tensor(3.3083) tensor(3.0227)\n",
      "tensor(1.00000e-04 *\n",
      "       -1.1531)\n",
      "tensor(3.3083) tensor(3.0227)\n",
      "tensor(1.00000e-05 *\n",
      "       -6.9185)\n",
      "tensor(3.3083) tensor(3.0227)\n",
      "tensor(1.00000e-05 *\n",
      "       -4.0358)\n",
      "tensor(3.3083) tensor(3.0227)\n",
      "tensor(1.00000e-05 *\n",
      "       -2.3062)\n",
      "tensor(3.3083) tensor(3.0227)\n",
      "tensor(1.00000e-05 *\n",
      "       -1.1531)\n",
      "tensor(3.3083) tensor(3.0227)\n",
      "tensor(1.00000e-05 *\n",
      "       -1.1531)\n",
      "tensor(3.3083) tensor(3.0227)\n",
      "tensor(1.00000e-06 *\n",
      "       -5.7654)\n",
      "tensor(3.3083) tensor(3.0227)\n",
      "tensor(1.00000e-06 *\n",
      "       -5.7654)\n",
      "tensor(3.3083) tensor(3.0227)\n",
      "tensor(1.00000e-06 *\n",
      "       -5.7654)\n",
      "tensor(3.3083) tensor(3.0227)\n",
      "tensor(1.00000e-06 *\n",
      "       -5.7654)\n",
      "tensor(3.3083) tensor(3.0227)\n",
      "tensor(1.00000e-06 *\n",
      "       -5.7654)\n",
      "tensor(3.3083) tensor(3.0227)\n",
      "tensor(1.00000e-06 *\n",
      "       -5.7654)\n",
      "tensor(3.3083) tensor(3.0227)\n",
      "tensor(1.00000e-06 *\n",
      "       -5.7654)\n",
      "tensor(3.3083) tensor(3.0227)\n",
      "tensor(1.00000e-06 *\n",
      "       -5.7654)\n",
      "tensor(3.3083) tensor(3.0227)\n",
      "tensor(1.00000e-06 *\n",
      "       -5.7654)\n",
      "tensor(3.3083) tensor(3.0227)\n",
      "tensor(1.00000e-06 *\n",
      "       -5.7654)\n",
      "tensor(3.3083) tensor(3.0227)\n",
      "tensor(1.00000e-06 *\n",
      "       -5.7654)\n",
      "tensor(3.3083) tensor(3.0227)\n",
      "tensor(1.00000e-06 *\n",
      "       -5.7654)\n",
      "tensor(3.3083) tensor(3.0227)\n",
      "tensor(1.00000e-06 *\n",
      "       -5.7654)\n",
      "tensor(3.3083) tensor(3.0227)\n",
      "tensor(1.00000e-06 *\n",
      "       -5.7654)\n"
     ]
    }
   ],
   "source": [
    "for i in range(50):\n",
    "    \n",
    "    net[0].forward()\n",
    "    net[1].forward()\n",
    "    t3 = net[0].a * net[1].a\n",
    "    loss = loss_fn(t3,target)\n",
    "    [n.a.retain_grad() for n in net]\n",
    "    loss.backward()\n",
    "    print net[0].a, net[1].a\n",
    "    print net[0].a.grad\n",
    "    optimizer.step()\n",
    "    optimizer.zero_grad()"
   ]
  },
  {
   "cell_type": "code",
   "execution_count": null,
   "metadata": {},
   "outputs": [],
   "source": []
  },
  {
   "cell_type": "code",
   "execution_count": null,
   "metadata": {
    "collapsed": true
   },
   "outputs": [],
   "source": []
  },
  {
   "cell_type": "code",
   "execution_count": null,
   "metadata": {},
   "outputs": [],
   "source": []
  },
  {
   "cell_type": "code",
   "execution_count": null,
   "metadata": {},
   "outputs": [],
   "source": []
  },
  {
   "cell_type": "code",
   "execution_count": null,
   "metadata": {},
   "outputs": [],
   "source": []
  },
  {
   "cell_type": "code",
   "execution_count": null,
   "metadata": {},
   "outputs": [],
   "source": [
    "\n",
    "    "
   ]
  },
  {
   "cell_type": "code",
   "execution_count": null,
   "metadata": {},
   "outputs": [],
   "source": []
  },
  {
   "cell_type": "code",
   "execution_count": null,
   "metadata": {
    "collapsed": true
   },
   "outputs": [],
   "source": []
  }
 ],
 "metadata": {
  "kernelspec": {
   "display_name": "Python 2",
   "language": "python",
   "name": "python2"
  },
  "language_info": {
   "codemirror_mode": {
    "name": "ipython",
    "version": 2
   },
   "file_extension": ".py",
   "mimetype": "text/x-python",
   "name": "python",
   "nbconvert_exporter": "python",
   "pygments_lexer": "ipython2",
   "version": "2.7.13"
  }
 },
 "nbformat": 4,
 "nbformat_minor": 2
}
