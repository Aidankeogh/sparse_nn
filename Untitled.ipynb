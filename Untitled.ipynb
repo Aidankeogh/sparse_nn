{
 "cells": [
  {
   "cell_type": "code",
   "execution_count": 1,
   "metadata": {},
   "outputs": [],
   "source": [
    "import torch.nn as nn"
   ]
  },
  {
   "cell_type": "code",
   "execution_count": 10,
   "metadata": {},
   "outputs": [],
   "source": [
    "l = nn.Linear(20,5)"
   ]
  },
  {
   "cell_type": "code",
   "execution_count": 11,
   "metadata": {},
   "outputs": [
    {
     "name": "stdout",
     "output_type": "stream",
     "text": [
      "Parameter containing:\n",
      "tensor([[ 0.1045, -0.1533,  0.0156,  0.0475, -0.0805,  0.0589,  0.0971,\n",
      "         -0.1176, -0.1133,  0.1574, -0.1470, -0.1110,  0.0057, -0.0892,\n",
      "          0.0241,  0.1118, -0.1102,  0.1281,  0.0373,  0.0995],\n",
      "        [-0.0808,  0.0209,  0.1463, -0.0191, -0.0121,  0.2049,  0.0020,\n",
      "         -0.0201,  0.0395,  0.0837,  0.1864, -0.1896,  0.0972, -0.1937,\n",
      "          0.0503,  0.0086,  0.1036,  0.0484,  0.0417,  0.0707],\n",
      "        [ 0.0766, -0.1970, -0.1697,  0.1103, -0.2073, -0.1507, -0.0468,\n",
      "         -0.1740, -0.0879, -0.0014,  0.1376, -0.1891, -0.0277,  0.1233,\n",
      "         -0.1109,  0.0940, -0.1953,  0.1087, -0.1526, -0.1971],\n",
      "        [ 0.0396,  0.1565, -0.0748, -0.0790, -0.0232,  0.1691,  0.1632,\n",
      "          0.1044,  0.0638,  0.1429, -0.1660,  0.0120,  0.0608, -0.1409,\n",
      "         -0.0485,  0.0644,  0.2171,  0.0486, -0.1938, -0.2233],\n",
      "        [-0.0037,  0.1563, -0.1048, -0.0618,  0.1832, -0.1492, -0.0831,\n",
      "         -0.2227, -0.1111, -0.0639,  0.0979, -0.2118, -0.0425,  0.0130,\n",
      "         -0.0670,  0.0114, -0.1569, -0.0739, -0.0358,  0.1502]])\n"
     ]
    }
   ],
   "source": [
    "print(l.weight)"
   ]
  },
  {
   "cell_type": "code",
   "execution_count": 8,
   "metadata": {},
   "outputs": [
    {
     "name": "stdout",
     "output_type": "stream",
     "text": [
      "Parameter containing:\n",
      "tensor([ 0.2729, -0.0482,  0.3887,  0.2720, -0.4284,  0.1512, -0.3623,\n",
      "        -0.1558, -0.2289,  0.1816])\n"
     ]
    }
   ],
   "source": [
    "print(l.bias)"
   ]
  },
  {
   "cell_type": "code",
   "execution_count": null,
   "metadata": {},
   "outputs": [],
   "source": []
  }
 ],
 "metadata": {
  "kernelspec": {
   "display_name": "Python 3",
   "language": "python",
   "name": "python3"
  },
  "language_info": {
   "codemirror_mode": {
    "name": "ipython",
    "version": 3
   },
   "file_extension": ".py",
   "mimetype": "text/x-python",
   "name": "python",
   "nbconvert_exporter": "python",
   "pygments_lexer": "ipython3",
   "version": "3.6.5"
  }
 },
 "nbformat": 4,
 "nbformat_minor": 2
}
